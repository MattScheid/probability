{
 "cells": [
  {
   "cell_type": "markdown",
   "id": "6c4823da",
   "metadata": {},
   "source": [
    "## Dual-Event Probability Situations\n",
    "\n",
    "- **Union (Inclusive OR):** At least one of the events occurs.  \n",
    "- **Exclusive OR (XOR):** Exactly one event occurs, not both.  \n",
    "- **Intersection (AND):** Both events occur.  \n",
    "- **Conditional Probability:** Likelihood of one event given the other.  \n",
    "- **Law of Total Probability:** Overall probability expressed as a sum across all possible cases.  \n",
    "- **Bayes’ Theorem:** Updates belief about an event after observing evidence.  \n"
   ]
  },
  {
   "cell_type": "markdown",
   "id": "d6d8f239",
   "metadata": {},
   "source": [
    "#### 1. Event A or Event B:\n",
    "Union of 2 events \\(A\\) and \\(B\\):"
   ]
  },
  {
   "cell_type": "markdown",
   "id": "eff65b83",
   "metadata": {},
   "source": [
    "**Inclusive or:**\n",
    "$$\n",
    "P(A \\text{ or } B) = P(A \\cup B) = P(A) + P(B) - P(A \\cap B)\n",
    "$$\n",
    "- We have to subtract out one instance of A and B to avoid double counting\n",
    "- For example, if we want to calculate the probability of drawing a King or a Heart, the King of Hearts will be included in both the set of Kings and the set of Hearts"
   ]
  },
  {
   "cell_type": "code",
   "execution_count": 2,
   "id": "220cae89",
   "metadata": {},
   "outputs": [
    {
     "name": "stdout",
     "output_type": "stream",
     "text": [
      "0.3076923076923077\n"
     ]
    }
   ],
   "source": [
    "p_heart = 13/52 # includes king of hearts\n",
    "p_king = 4/52 # includes king of hearts\n",
    "p_heart_and_king = 1/52 # king of hearts\n",
    "p_heart_or_king = p_heart + p_king - p_heart_and_king # remove 1 king of hearts b/c counted twice\n",
    "print(p_heart_or_king)"
   ]
  },
  {
   "cell_type": "markdown",
   "id": "4f0aa91d",
   "metadata": {},
   "source": [
    "**Exclusive or:**\n",
    "$$\n",
    "P(A \\text{ xor } B) = P(A \\oplus B) = P(A) + P(B) - 2P(A \\cap B)\n",
    "$$\n",
    "- We have to subtract out all instances of A and B to respect the exclusive or\n",
    "- For example, if we want to calculate the probability of drawing a King or a Heart, but not both, the King of Hearts should be removed from both the set of Kings and the set of Hearts"
   ]
  },
  {
   "cell_type": "code",
   "execution_count": 3,
   "id": "a714dd3b",
   "metadata": {},
   "outputs": [
    {
     "name": "stdout",
     "output_type": "stream",
     "text": [
      "0.28846153846153844\n"
     ]
    }
   ],
   "source": [
    "p_heart = 13/52 # includes king of hearts\n",
    "p_king = 4/52 # includes king of hearts\n",
    "p_heart_and_king = 1/52 # king of hearts\n",
    "p_heart_or_king = p_heart + p_king - 2 * p_heart_and_king # remove both king of hearts b/c exclusive or\n",
    "print(p_heart_or_king)"
   ]
  },
  {
   "cell_type": "markdown",
   "id": "cc7fb532",
   "metadata": {},
   "source": [
    "If \\(A\\) and \\(B\\) are **mutually exclusive** (cannot occur together):  \n",
    "$$\n",
    "P(A \\cap B) = 0\n",
    "$$\n",
    "\n",
    "$$\n",
    "P(A \\cup B) = P(A) + P(B)\n",
    "$$\n",
    "\n",
    "- For example, what's the probability of drawing a Queen or a King\n",
    "- A card cannot be a Queen and a King, therefore `P(K ∩ Q) = 0`"
   ]
  },
  {
   "cell_type": "code",
   "execution_count": 7,
   "id": "4af9f45c",
   "metadata": {},
   "outputs": [
    {
     "name": "stdout",
     "output_type": "stream",
     "text": [
      "0.15384615384615385\n",
      "True\n"
     ]
    }
   ],
   "source": [
    "# What's the probability of drawing a Queen or a King?\n",
    "p_king = 4/52\n",
    "p_queen = 4/52\n",
    "p_king_and_queen = 0/52 # does not exist\n",
    "p_king_or_queen = p_king + p_queen - p_king_and_queen\n",
    "\n",
    "print(p_king_or_queen)\n",
    "print(p_king + p_queen == p_king + p_queen - p_king_and_queen)"
   ]
  },
  {
   "cell_type": "markdown",
   "id": "873c361c",
   "metadata": {},
   "source": [
    "#### 2. Event A and Event B\n",
    "Intersection of Two Events (Multiplication Rule)"
   ]
  },
  {
   "cell_type": "markdown",
   "id": "670bdefe",
   "metadata": {},
   "source": [
    "If \\(A\\) and \\(B\\) are **independent**:  \n",
    "\n",
    "$$\n",
    "P(A \\cap B) = P(A) \\cdot P(B)\n",
    "$$"
   ]
  },
  {
   "cell_type": "code",
   "execution_count": 10,
   "id": "8472257f",
   "metadata": {},
   "outputs": [
    {
     "name": "stdout",
     "output_type": "stream",
     "text": [
      "0.25\n"
     ]
    }
   ],
   "source": [
    "# Probability of flipping 2 heads on a fair coin\n",
    "p_head = 1/2\n",
    "p_2_heads = p_head * p_head\n",
    "print(p_2_heads)"
   ]
  },
  {
   "cell_type": "markdown",
   "id": "17aa3581",
   "metadata": {},
   "source": [
    "If A and B are Dependent\n",
    "For any two events \\(A\\) and \\(B\\):  \n",
    "\n",
    "$$\n",
    "P(A \\cap B) = P(A) \\cdot P(B|A) = P(B) \\cdot P(A|B)\n",
    "$$"
   ]
  },
  {
   "cell_type": "code",
   "execution_count": 13,
   "id": "88930231",
   "metadata": {},
   "outputs": [
    {
     "name": "stdout",
     "output_type": "stream",
     "text": [
      "0.18\n"
     ]
    }
   ],
   "source": [
    "# Example: Probability it rains and there is thunder (dependent events)\n",
    "# Let P(Rain) = 0.3\n",
    "# Let P(Thunder | Rain) = 0.6\n",
    "\n",
    "p_rain = 0.3\n",
    "p_thunder_given_rain = 0.6\n",
    "\n",
    "# Probability it rains and there is thunder:\n",
    "p_rain_and_thunder = p_rain * p_thunder_given_rain\n",
    "print(p_rain_and_thunder)"
   ]
  },
  {
   "cell_type": "code",
   "execution_count": 9,
   "id": "4b237640",
   "metadata": {},
   "outputs": [
    {
     "name": "stdout",
     "output_type": "stream",
     "text": [
      "0.006033182503770739\n"
     ]
    }
   ],
   "source": [
    "# Example: Probability of drawing an Ace, then a King, without replacement from a standard deck\n",
    "p_ace_first = 4/52  # Probability first card is an Ace\n",
    "p_king_second_given_ace_first = 4/51  # Probability second card is a King, given first was an Ace\n",
    "\n",
    "# Since the events are dependent (no replacement), multiply directly:\n",
    "p_ace_then_king = p_ace_first * p_king_second_given_ace_first\n",
    "\n",
    "print(p_ace_then_king)"
   ]
  },
  {
   "cell_type": "markdown",
   "id": "8764c228",
   "metadata": {},
   "source": [
    "#### 3. Conditional Probability (Review)\n",
    "Probability of \\(A\\) given \\(B\\):  \n",
    "\n",
    "$$\n",
    "P(A|B) = \\frac{P(A \\cap B)}{P(B)}, \\quad P(B) > 0\n",
    "$$"
   ]
  },
  {
   "cell_type": "code",
   "execution_count": 14,
   "id": "5ffb4304",
   "metadata": {},
   "outputs": [
    {
     "name": "stdout",
     "output_type": "stream",
     "text": [
      "P(Heart | King) = 0.25\n"
     ]
    }
   ],
   "source": [
    "# Example: Conditional probability with cards\n",
    "# Let A = drawing a heart, B = drawing a king\n",
    "# What is the probability that a card is a heart given that it is a king?\n",
    "\n",
    "# We use: P(A|B) = P(A ∩ B) / P(B)\n",
    "p_king = 4/52\n",
    "p_heart_and_king = 1/52 # only the king of hearts\n",
    "p_heart_given_king = p_heart_and_king / p_king\n",
    "print(f\"P(Heart | King) = {p_heart_given_king:.2f}\")"
   ]
  },
  {
   "cell_type": "markdown",
   "id": "4c097cde",
   "metadata": {},
   "source": [
    "#### 4. Law of Total Probability\n",
    "If events B_1, B_2, ..., B_n form a partition of the sample space (mutually exclusive and exhaustive):  \n",
    "\n",
    "$$\n",
    "P(A) = \\sum_{i=1}^n P(A|B_i) \\cdot P(B_i)\n",
    "$$"
   ]
  },
  {
   "cell_type": "code",
   "execution_count": 15,
   "id": "7b71b1f7",
   "metadata": {},
   "outputs": [
    {
     "name": "stdout",
     "output_type": "stream",
     "text": [
      "Overall probability of purchase: 0.48\n"
     ]
    }
   ],
   "source": [
    "# Law of Total Probability with 3 groups\n",
    "\n",
    "# Probabilities of groups\n",
    "P_G1 = 0.2   # Students\n",
    "P_G2 = 0.5   # Workers\n",
    "P_G3 = 0.3   # Retirees\n",
    "\n",
    "# Conditional probabilities of purchase given group\n",
    "P_Purchase_G1 = 0.3\n",
    "P_Purchase_G2 = 0.6\n",
    "P_Purchase_G3 = 0.4\n",
    "\n",
    "# Law of Total Probability\n",
    "P_Purchase = (\n",
    "    P_Purchase_G1 * P_G1 +\n",
    "    P_Purchase_G2 * P_G2 +\n",
    "    P_Purchase_G3 * P_G3\n",
    ")\n",
    "\n",
    "print(f\"Overall probability of purchase: {P_Purchase:.2f}\")\n"
   ]
  },
  {
   "cell_type": "markdown",
   "id": "762ab93f",
   "metadata": {},
   "source": [
    "#### 5. Bayes’ Theorem\n",
    "For events \\(A\\) and \\(B\\) with \\(P(B) > 0\\):  \n",
    "\n",
    "$$\n",
    "P(A|B) = \\frac{P(B|A) \\cdot P(A)}{P(B)}\n",
    "$$\n",
    "\n",
    "With the law of total probability in the denominator:  \n",
    "\n",
    "$$\n",
    "P(A|B) = \\frac{P(B|A) \\cdot P(A)}{\\sum_{i=1}^n P(B|A_i) \\cdot P(A_i)}\n",
    "$$"
   ]
  },
  {
   "cell_type": "code",
   "execution_count": 16,
   "id": "eb8b0455",
   "metadata": {},
   "outputs": [
    {
     "name": "stdout",
     "output_type": "stream",
     "text": [
      "Overall probability of purchase: 0.48\n",
      "Probability customer is a Worker given a purchase: 0.625\n"
     ]
    }
   ],
   "source": [
    "# Bayes' Theorem Example: Customer Groups\n",
    "\n",
    "# Prior probabilities of groups\n",
    "P_G1 = 0.2   # Students\n",
    "P_G2 = 0.5   # Workers\n",
    "P_G3 = 0.3   # Retirees\n",
    "\n",
    "# Likelihoods: probability of purchase given group\n",
    "P_Purchase_G1 = 0.3\n",
    "P_Purchase_G2 = 0.6\n",
    "P_Purchase_G3 = 0.4\n",
    "\n",
    "# Law of Total Probability to find overall P(Purchase)\n",
    "P_Purchase = (\n",
    "    P_Purchase_G1 * P_G1 +\n",
    "    P_Purchase_G2 * P_G2 +\n",
    "    P_Purchase_G3 * P_G3\n",
    ")\n",
    "\n",
    "# Bayes' theorem: posterior probability that customer is a Worker given a purchase\n",
    "P_G2_given_Purchase = (P_Purchase_G2 * P_G2) / P_Purchase\n",
    "\n",
    "print(f\"Overall probability of purchase: {P_Purchase:.2f}\")\n",
    "print(f\"Probability customer is a Worker given a purchase: {P_G2_given_Purchase:.3f}\")\n"
   ]
  },
  {
   "cell_type": "markdown",
   "id": "c69fe852",
   "metadata": {},
   "source": [
    "### Multi-Event Probability Practice Questions\n",
    "\n",
    "---\n",
    "\n",
    "#### 1. Card Draw — Union of Events\n",
    "**Question:** From a standard 52-card deck, what is the probability of drawing a **heart** or a **king**?\n",
    "\n",
    "**Answer:**  \n",
    "$$\n",
    "P(\\text{Heart}) = \\tfrac{13}{52}, P(\\text{King}) = \\tfrac{4}{52}, P(\\text{Heart} \\cap \\text{King}) = \\tfrac{1}{52}\n",
    "$$\n",
    "\n",
    "$$\n",
    "P(\\text{Heart} \\cup \\text{King}) = P(\\text{Heart}) + P(\\text{King}) - P(\\text{Heart} \\cap \\text{King})\n",
    "$$\n",
    "\n",
    "$$\n",
    "= \\frac{13}{52} + \\frac{4}{52} - \\frac{1}{52} = \\frac{16}{52} = \\frac{4}{13}\n",
    "$$\n",
    "\n",
    "---\n",
    "\n",
    "#### 2. Coin Toss — At Least One Success\n",
    "**Question:** Two fair coins are flipped. What is the probability of getting **at least one head**?\n",
    "\n",
    "**Answer:**  \n",
    "Use complement rule:  \n",
    "\n",
    "$$\n",
    "P(\\text{At least one head}) = 1 - P(\\text{No heads})\n",
    "$$\n",
    "\n",
    "$$\n",
    "= 1 - P(\\text{Both tails}) = 1 - \\left(\\frac{1}{2} \\cdot \\frac{1}{2}\\right) = 1 - \\frac{1}{4} = \\frac{3}{4}\n",
    "$$\n",
    "\n",
    "---\n",
    "\n",
    "#### 3. Dice Roll — Intersection of Independent Events\n",
    "**Question:** Roll two fair six-sided dice. What is the probability that the **first die is a 4** and the **second die is even**?\n",
    "\n",
    "**Answer:**  \n",
    "Independent events:  \n",
    "\n",
    "$$\n",
    "P(\\text{First = 4}) = \\frac{1}{6}, \\quad P(\\text{Second even}) = \\frac{3}{6} = \\frac{1}{2}\n",
    "$$\n",
    "\n",
    "$$\n",
    "P(\\text{First = 4} \\cap \\text{Second even}) = \\frac{1}{6} \\cdot \\frac{1}{2} = \\frac{1}{12}\n",
    "$$\n",
    "\n",
    "---\n",
    "\n",
    "#### 4. Law of Total Probability — Email Classification\n",
    "**Question:** An email system classifies messages as **spam** (30%) or **not spam** (70%).  \n",
    "- If spam: 90% chance it contains the word \"offer\".  \n",
    "- If not spam: 5% chance it contains \"offer\".  \n",
    "What is the probability a randomly chosen email contains \"offer\"?\n",
    "\n",
    "**Answer:**  \n",
    "\n",
    "$$\n",
    "P(\\text{Offer}) = P(\\text{Offer | Spam}) \\cdot P(\\text{Spam}) + P(\\text{Offer | Not Spam}) \\cdot P(\\text{Not Spam})\n",
    "$$\n",
    "\n",
    "$$\n",
    "= (0.9)(0.3) + (0.05)(0.7) = 0.27 + 0.035 = 0.305\n",
    "$$\n",
    "\n",
    "---\n",
    "\n",
    "#### 5. Bayes’ Theorem — Inverse Probability\n",
    "**Question:** Using the email system above, if an email contains \"offer\", what is the probability it is spam?\n",
    "\n",
    "**Answer:**  \n",
    "\n",
    "$$\n",
    "P(\\text{Spam | Offer}) = \\frac{P(\\text{Offer | Spam}) \\cdot P(\\text{Spam})}{P(\\text{Offer})}\n",
    "$$\n",
    "\n",
    "$$\n",
    "= \\frac{0.9 \\cdot 0.3}{0.305} = \\frac{0.27}{0.305} \\approx 0.885\n",
    "$$\n",
    "\n",
    "---\n"
   ]
  },
  {
   "cell_type": "markdown",
   "id": "962d5bcf",
   "metadata": {},
   "source": []
  },
  {
   "cell_type": "markdown",
   "id": "e71a701d",
   "metadata": {},
   "source": [
    "### Fixed Example: Conditional Probability with Rain and Thunder\n",
    "From before, if we know the probability of rain is 0.3, the probability of thunder is 0.2, and the probability there is thunder given that it is raining is 0.6, then what is the probability there is rain given there is thunder?\n",
    "\n",
    "---\n",
    "\n",
    "#### Step 1. Define events\n",
    "\n",
    "Given:\n",
    "- P(Rain) = 0.3\n",
    "- P(Thunder | Rain) = 0.6\n",
    "- P(Thunder) = 0.2\n",
    "- Want: P(Rain | Thunder)\n",
    "\n",
    "---\n",
    "\n",
    "#### Step 2. Compute the intersection\n",
    "$$\n",
    "P(\\text{Rain} \\cap \\text{Thunder}) = P(\\text{Rain}) \\cdot P(\\text{Thunder | Rain})\n",
    "$$\n",
    "\n",
    "$$\n",
    "P(\\text{Rain} \\cap \\text{Thunder}) = 0.3 \\cdot 0.6 = 0.18\n",
    "$$\n",
    "\n",
    "---\n",
    "\n",
    "#### Step 3. Use the multiplication rule\n",
    "$$\n",
    "P(\\text{Rain} \\cap \\text{Thunder}) = P(\\text{Thunder}) \\cdot P(\\text{Rain | Thunder})\n",
    "$$\n",
    "\n",
    "$$\n",
    "0.18 = 0.2 \\cdot P(\\text{Rain | Thunder})\n",
    "$$\n",
    "\n",
    "---\n",
    "\n",
    "#### Step 4. Solve for \\(P(Rain|Thunder)\\)\n",
    "$$\n",
    "P(\\text{Rain | Thunder}) = \\frac{0.18}{0.2} = 0.9\n",
    "$$\n",
    "\n",
    "---\n",
    "\n",
    "### ✅ Final Answer\n",
    "If it rains 30% of days, thunder happens on 20% of days, and thunder given rain is 60%, then:\n",
    "\n",
    "$$\n",
    "P(\\text{Rain | Thunder}) = 0.9\n",
    "$$\n"
   ]
  },
  {
   "cell_type": "markdown",
   "id": "9acd1ff3",
   "metadata": {},
   "source": [
    "### Example: Law of Total Probability\n",
    "\n",
    "#### Problem\n",
    "On any given day:\n",
    "- Probability of rain is \\(P(A) = 0.3\\).  \n",
    "- If it rains, the probability of thunder is \\(P(B|A) = 0.6\\).  \n",
    "- If it does **not** rain, the probability of thunder is \\(P(B|A^c) = 0.05\\).  \n",
    "\n",
    "**Question:** What is the overall probability of thunder, \\(P(B)\\)?  \n",
    "\n",
    "---\n",
    "\n",
    "#### Solution\n",
    "By the Law of Total Probability:\n",
    "\n",
    "$$\n",
    "P(B) = P(B|A) \\cdot P(A) + P(B|A^c) \\cdot P(A^c)\n",
    "$$\n",
    "\n",
    "Compute each term:\n",
    "\n",
    "$$\n",
    "P(B|A) \\cdot P(A) = 0.6 \\cdot 0.3 = 0.18\n",
    "$$\n",
    "\n",
    "$$\n",
    "P(B|A^c) \\cdot P(A^c) = 0.05 \\cdot 0.7 = 0.035\n",
    "$$\n",
    "\n",
    "Add them together:\n",
    "\n",
    "$$\n",
    "P(B) = 0.18 + 0.035 = 0.215\n",
    "$$\n",
    "\n",
    "---\n",
    "\n",
    "The overall probability of thunder is:\n",
    "$$\n",
    "P(B) = 0.215\n",
    "$$\n"
   ]
  },
  {
   "cell_type": "markdown",
   "id": "b3f17f5d",
   "metadata": {},
   "source": []
  }
 ],
 "metadata": {
  "kernelspec": {
   "display_name": "probability",
   "language": "python",
   "name": "probability"
  },
  "language_info": {
   "codemirror_mode": {
    "name": "ipython",
    "version": 3
   },
   "file_extension": ".py",
   "mimetype": "text/x-python",
   "name": "python",
   "nbconvert_exporter": "python",
   "pygments_lexer": "ipython3",
   "version": "3.13.7"
  }
 },
 "nbformat": 4,
 "nbformat_minor": 5
}
