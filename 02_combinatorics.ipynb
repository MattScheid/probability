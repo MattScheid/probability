{
 "cells": [
  {
   "cell_type": "markdown",
   "id": "685f1b1d",
   "metadata": {},
   "source": [
    "# Combinatorics: Counting Events\n",
    "- Use to calculate how many possible options there are\n",
    "- Useful for event probability problems to count numerator or denominator\n",
    "\n",
    "**Questions to ask:**\n",
    "- Are we arranging or selecting items?\n",
    "- Ordered or unordered?\n",
    "- With or without replacement?\n",
    "\n",
    "### Summary Table\n",
    "- Note: Factorial: $n! = n \\cdot (n-1) \\cdot (n-2) \\cdots 1, \\quad 0! = 1$\n",
    "\n",
    "| Case                          | Ordered? | Replacement? | Formula |\n",
    "|-------------------------------|----------|--------------|---------|\n",
    "| Combinations (no repeats)     | No       | No           | $C(n,r) = \\binom{n}{r} = \\frac{n!}{r!(n-r)!}$ |\n",
    "| Combinations (with repeats)   | No       | Yes          | $C(n+r-1,r) = \\binom{n+r-1}{r}$ |\n",
    "| Permutations (no repeats)     | Yes      | No           | $P(n,r) = \\frac{n!}{(n-r)!}$ |\n",
    "| Permutations (with repeats)   | Yes      | Yes          | $n^r$ |\n",
    "\n",
    "### Determine Which Formula:\n",
    "Is order important?\n",
    "- No → **Combinations** \n",
    "  - **Without replacement:**\n",
    "    - Example: Card hand (5 cards from 52)\n",
    "    - $n = 52, r = 5$\n",
    "    - $\\binom{52}{5} = \\frac{52!}{5!(52-5)!} = \\tfrac{52!}{5!47!}$\n",
    "  - **With replacement:**\n",
    "    - Example: Ice cream scoops (3 scoops, 5 flavors, repeats allowed)\n",
    "    - $n = 5, r = 3$\n",
    "    - $\\tbinom{5+3-1}{3} = \\tbinom{7}{3} = 35$ \n",
    "- Yes → **Permutations**\n",
    "  - **Without replacement:**  \n",
    "    - Example: Race rankings (3 winners out of 10 runners, no repeats)\n",
    "    - $n = 10, r = 3$\n",
    "    - $\\tfrac{10!}{10-3!} = \\tfrac{10!}{7!} = 720$\n",
    "  - **With replacement:**  \n",
    "    - Example: PIN code (4 digits, repeats allowed)\n",
    "    - $10^4 = 10,000$  \n",
    "\n",
    "Takeaways:\n",
    "- Binomial: $\\binom{n}{r}$\n",
    "  - Read as **“n choose r”**.  \n",
    "  - Represents the number of ways to choose $r$ items from $n$ total items **without regard to order**.  \n",
    "- Factorial: $n!$\n",
    "  - Factorials appear whenever “arranging” or “removing order” is involved.\n",
    "- Exponents: $n^r$\n",
    "  - Plain powers only apply when order matters and repeats are allowed."
   ]
  },
  {
   "cell_type": "code",
   "execution_count": 11,
   "id": "d64ae9e0",
   "metadata": {},
   "outputs": [
    {
     "name": "stdout",
     "output_type": "stream",
     "text": [
      "120\n"
     ]
    }
   ],
   "source": [
    "def factorial(n):\n",
    "    \"\"\"Calculate the factorial of n (n!) for non-negative integers.\"\"\"\n",
    "    if n < 0:\n",
    "        raise ValueError(\"Factorial is not defined for negative numbers.\")\n",
    "    result = 1\n",
    "    for i in range(2, n + 1):\n",
    "        result *= i\n",
    "    return result\n",
    "\n",
    "print(factorial(5))  # Example usage: 5! = 120"
   ]
  },
  {
   "cell_type": "code",
   "execution_count": 7,
   "id": "907c1021",
   "metadata": {},
   "outputs": [
    {
     "name": "stdout",
     "output_type": "stream",
     "text": [
      "2598960\n"
     ]
    }
   ],
   "source": [
    "def n_choose_r(n, r):\n",
    "    \"\"\"Calculate the binomial coefficient (n choose r).\"\"\"\n",
    "    if not (0 <= r <= n):\n",
    "        return 0\n",
    "    return factorial(n) // (factorial(r) * factorial(n - r))\n",
    "\n",
    "print(n_choose_r(52, 5))  # Example usage: 5 choose 2 = 10"
   ]
  },
  {
   "cell_type": "code",
   "execution_count": 16,
   "id": "3d1e7618",
   "metadata": {},
   "outputs": [],
   "source": [
    "def permutations(n, r):\n",
    "    \"\"\"Calculate the number of permutations of n items taken r at a time.\"\"\"\n",
    "    if not (0 <= r <= n):\n",
    "        return 0\n",
    "    return factorial(n) // factorial(n - r)"
   ]
  },
  {
   "cell_type": "markdown",
   "id": "9e19f22f",
   "metadata": {},
   "source": [
    "### 1. Combinations without Replacement\n",
    "- Unordered selection, no repeats\n",
    "- Number of ways to choose $r$ items from $n$, order ignored:  \n",
    "$$\n",
    "C(n,r) = \\binom{n}{r} = \\frac{n!}{r!(n-r)!}\n",
    "$$"
   ]
  },
  {
   "cell_type": "markdown",
   "id": "d89518fb",
   "metadata": {},
   "source": [
    "**Problem:**  \n",
    "From a standard deck of 52 cards, 5 cards are drawn at random.  \n",
    "What is the probability that all 5 cards are **hearts**?\n",
    "\n",
    "**Solution:**\n",
    "\n",
    "- Total number of ways to choose 5 cards from 52: $\\binom{52}{5}$\n",
    "- Number of favorable ways (all hearts): $\\binom{13}{5}$\n",
    "\n",
    "$$\n",
    "P(\\text{5 hearts}) = \\frac{\\binom{13}{5}}{\\binom{52}{5}}\n",
    "$$\n",
    "\n",
    "$$\n",
    "P(\\text{5 hearts}) = \\frac{1287}{2,598,960} \\approx 0.000495\n",
    "$$"
   ]
  },
  {
   "cell_type": "code",
   "execution_count": null,
   "id": "b447e091",
   "metadata": {},
   "outputs": [
    {
     "name": "stdout",
     "output_type": "stream",
     "text": [
      "0.0004951980792316927\n"
     ]
    }
   ],
   "source": [
    "combo_5_hearts = n_choose_r(13, 5) # Number of combinations of 5 hearts from 13 hearts\n",
    "combo_5_cards = n_choose_r(52, 5) # Number of cominations of 5 cards from 52 cards\n",
    "prob_5_hearts = combo_5_hearts / combo_5_cards\n",
    "print(prob_5_hearts)  # Probability of drawing 5 hearts from a deck of 52 cards"
   ]
  },
  {
   "cell_type": "markdown",
   "id": "fefadc5a",
   "metadata": {},
   "source": [
    "### 2. Combinations with Repacement\n",
    "- Unordered selection with repeats\n",
    "  - a.k.a. “stars and bars”\n",
    "- Number of ways to choose $r$ items from $n$ categories, order ignored: \n",
    "$$\n",
    "C(n+r-1,r) = \\binom{n+r-1}{r}\n",
    "$$"
   ]
  },
  {
   "cell_type": "markdown",
   "id": "63193aa1",
   "metadata": {},
   "source": [
    "**Example: Combinations with Replacement**\n",
    "\n",
    "**Problem:**  \n",
    "An ice cream shop offers 5 flavors. A customer orders a cup with 3 scoops of ice cream.  \n",
    "Scoops can be of the same flavor or different flavors, and the order of scoops does not matter.  \n",
    "What is the probability that all 3 scoops are of the **same flavor**?\n",
    "\n",
    "**Solution:**\n",
    "\n",
    "- $n = 5, r = 3$\n",
    "- Total number of unordered selections with replacement:  \n",
    "\n",
    "$$\n",
    "\\binom{n+r-1}{r} = \\binom{5+3-1}{3} = \\binom{7}{3}\n",
    "$$\n",
    "\n",
    "$$\n",
    "\\binom{7}{3} = \\frac{7!}{3!(4!)} = 35\n",
    "$$\n",
    "\n",
    "$$\n",
    "\\text{There are 35 total possible combinations}\n",
    "$$\n",
    "\n",
    "\n",
    "- Favorable outcomes (all scoops the same):  \n",
    "    - There are **5 ways** (one for each flavor)\n",
    "\n",
    "- Probability:  \n",
    "\n",
    "$$\n",
    "P(\\text{all 3 same}) = \\frac{5}{35} = \\frac{1}{7} \\approx 0.143\n",
    "$$"
   ]
  },
  {
   "cell_type": "code",
   "execution_count": 13,
   "id": "e7ee036c",
   "metadata": {},
   "outputs": [
    {
     "name": "stdout",
     "output_type": "stream",
     "text": [
      "0.14285714285714285\n"
     ]
    }
   ],
   "source": [
    "combo_scoops = n_choose_r(7, 3)\n",
    "combo_all_same = 5\n",
    "prob_all_same = combo_all_same / combo_scoops\n",
    "print(prob_all_same)  # Probability of all 3 scoops being the same flavor"
   ]
  },
  {
   "cell_type": "markdown",
   "id": "75b30054",
   "metadata": {},
   "source": [
    "### 3. Permutations - No Replacement\n",
    "\n",
    "- Ordered Selection, no repeats\n",
    "- Number of ways to arrange $r$ items from $n$  \n",
    "  $$\n",
    "  P(n,r) = \\frac{n!}{(n-r)!}\n",
    "  $$"
   ]
  },
  {
   "cell_type": "markdown",
   "id": "3d6d28a0",
   "metadata": {},
   "source": [
    "**Example: Permutation Probability with 0 Interpreted as Leading Zero**\n",
    "\n",
    "**Problem:**  \n",
    "Digits 0 through 9 are placed in a box.  \n",
    "Two digits are drawn **without replacement** and arranged in order.  \n",
    "If the first digit is 0, the number is interpreted as a 1-digit number using only the second digit (e.g., drawing 0 then 5 = the number 5).  \n",
    "What is the probability that the resulting number is **greater than 76**?\n",
    "\n",
    "**Solution:**\n",
    "\n",
    "- **Step 1. Total possible outcomes:**\n",
    "$$P(10,2) = \\frac{10!}{(10-2)!} = 90$$\n",
    "\n",
    "- **Step 2. Favorable outcomes:**\n",
    "We need numbers greater than 76.\n",
    "\n",
    "  - **Case A. First digit = 0–6**  \n",
    "    - Numbers are in ranges 1–69.  \n",
    "    - None exceed 76.  \n",
    "    - Favorable = 0\n",
    "\n",
    "  - **Case B. First digit = 7**  \n",
    "    - Possible second digits: 0–9 except 7.  \n",
    "    - Numbers range from 70–79 but not 77.  \n",
    "    - Greater than 76 → {78, 79}.  \n",
    "    - **Favorable = 2**\n",
    "\n",
    "  - **Case C. First digit = 8**  \n",
    "    - Possible second digits: 0–9 except 8.  \n",
    "    - Numbers: 80–89 except 88.  \n",
    "    - All are > 76.  \n",
    "    - **Favorable = 9**\n",
    "\n",
    "  - **Case D. First digit = 9**  \n",
    "    - Possible second digits: 0–9 except 9.\n",
    "    - Numbers: 90–99 except 99.\n",
    "    - All are > 76.\n",
    "    - **Favorable = 9**\n",
    "\n",
    "$$\n",
    "\\text{favorable outcomes} = 2 + 9 + 9 = 20\n",
    "$$\n",
    "\n",
    "- **Step 3. Probability**\n",
    "$$\n",
    "P(\\text{Number > 76}) = \\frac{20}{90} = \\frac{2}{9} \\approx 0.222\n",
    "$$"
   ]
  },
  {
   "cell_type": "code",
   "execution_count": null,
   "id": "9f1fd861",
   "metadata": {},
   "outputs": [
    {
     "name": "stdout",
     "output_type": "stream",
     "text": [
      "20\n",
      "90\n",
      "0.2222222222222222\n"
     ]
    }
   ],
   "source": [
    "combo_all = permutations(10, 2)\n",
    "\n",
    "combo_favorable_with_first_7 = 2 # {78, 79}, no 77\n",
    "combo_favorable_with_first_8 = 9 # {80, 81, 82, 83, 84, 85, 86, 87, 89}, no 88\n",
    "combo_favorable_with_first_9 = 9 # {90, 91, 92, 93, 94, 95, 96, 97, 98}, no 99\n",
    "combo_favorable = (\n",
    "    combo_favorable_with_first_7 \n",
    "    + combo_favorable_with_first_8 \n",
    "    + combo_favorable_with_first_9)\n",
    "\n",
    "prob_favorable = combo_favorable / combos_tickets\n",
    "\n",
    "print(combo_favorable)\n",
    "print(combo_all)\n",
    "print(prob_favorable)"
   ]
  },
  {
   "cell_type": "markdown",
   "id": "9e367821",
   "metadata": {},
   "source": [
    "### 3.1 Permutation Special Case: Factorial\n",
    "**Number of ways to arrange $n$ distinct objects**\n",
    "- Factorials can be used to solve a **special case** of combinatorics problems\n",
    "- Arranging distinct objects means that **order matters** and **no replacement** → permutation\n",
    "  - $P(n,r) = \\tfrac{n!}{n-r!}$\n",
    "- $n = r$, because arranging all items in a set\n",
    "  - $\\tfrac{n!}{n-r!} = \\tfrac{n!}{0!} = \\tfrac{n!}{1} = n!$\n",
    "\n",
    "$$n! = n \\cdot (n-1) \\cdot (n-2) \\cdots 1, \\quad 0! = 1$$\n",
    "\n"
   ]
  },
  {
   "cell_type": "markdown",
   "id": "ca9b895f",
   "metadata": {},
   "source": [
    "**Factorial Question**\n",
    "\n",
    "**Problem:**  \n",
    "A password must consist of **all 6 distinct letters** from the set {A, B, C, D, E, F}, arranged in any order.  \n",
    "How many unique passwords can be created?\n",
    "\n",
    "---\n",
    "\n",
    "**Solution:**  \n",
    "Since all 6 letters are used and order matters, the number of arrangements is given by the factorial:\n",
    "\n",
    "$$\n",
    "6! = 6 \\cdot 5 \\cdot 4 \\cdot 3 \\cdot 2 \\cdot 1\n",
    "$$\n",
    "\n",
    "$$\n",
    "6! = 720\n",
    "$$\n"
   ]
  },
  {
   "cell_type": "code",
   "execution_count": null,
   "id": "c452e82b",
   "metadata": {},
   "outputs": [
    {
     "name": "stdout",
     "output_type": "stream",
     "text": [
      "720\n"
     ]
    }
   ],
   "source": [
    "print(factorial(6))"
   ]
  },
  {
   "cell_type": "markdown",
   "id": "a2bb6792",
   "metadata": {},
   "source": [
    "### 4. Permutations with Replacement\n",
    "- **Ordered Selection, with repeats:**  \n",
    "- Each choice has $n$ possibilities, repeated $r$ times:  \n",
    "$$\n",
    "n^r\n",
    "$$"
   ]
  },
  {
   "cell_type": "markdown",
   "id": "43f0d1f7",
   "metadata": {},
   "source": [
    "**Example: Permutation Probability With Replacement**\n",
    "\n",
    "**Problem:**  \n",
    "A 3-digit PIN code is generated by choosing digits 0–9, with each digit chosen independently and digits **can repeat**.  \n",
    "What is the probability that the PIN code contains **at least one 7**?"
   ]
  },
  {
   "cell_type": "markdown",
   "id": "cc02d0dc",
   "metadata": {},
   "source": [
    "### Example: Permutation Probability With Replacement\n",
    "\n",
    "**Problem:**  \n",
    "A 3-digit PIN code is generated by choosing digits 0–9, with each digit chosen independently and digits **can repeat**.  \n",
    "What is the probability that the PIN code contains **at least one 7**?\n",
    "\n",
    "**Solution:**\n",
    "\n",
    "- **Step 1. Total number of possible PIN codes:**\n",
    "    - Since each digit has 10 possibilities and repeats are allowed:\n",
    "\n",
    "$$\n",
    "\\text{Total outcomes} = 10^3 = 1000\n",
    "$$\n",
    "\n",
    "- **Step 2. Use complement rule:**\n",
    "\n",
    "- Instead of counting directly, find the probability that no digit is a 7.\n",
    "    - Each digit has 9 choices (anything but 7).  \n",
    "    - For 3 digits:\n",
    "\n",
    "$$\n",
    "\\text{Outcomes with no 7} = 9^3 = 729\n",
    "$$\n",
    "\n",
    "- **Step 3. Probability of at least one 7:**\n",
    "\n",
    "$$\n",
    "P(\\text{Outcomes with at least one 7}) = 1 - \\frac{729}{1000}\n",
    "$$\n",
    "\n",
    "$$\n",
    "= 1 - \\frac{729}{1000} = \\frac{271}{1000} \\approx{0.271}\n",
    "$$"
   ]
  },
  {
   "cell_type": "code",
   "execution_count": null,
   "id": "0a72b1f5",
   "metadata": {},
   "outputs": [
    {
     "name": "stdout",
     "output_type": "stream",
     "text": [
      "729\n",
      "1000\n",
      "0.729\n",
      "0.271\n"
     ]
    }
   ],
   "source": [
    "# Count total combinations\n",
    "num_digits = 10\n",
    "pin_length = 3\n",
    "combo_digits = num_digits ** pin_length\n",
    "\n",
    "# Count combinations with no 7\n",
    "non_7_digits = 9\n",
    "combo_no_7 = non_7_digits ** pin_length\n",
    "\n",
    "# Calculate probabilities\n",
    "prob_no_7 = combo_no_7 / combo_digits\n",
    "prob_7 = 1 - prob_no_7\n",
    "\n",
    "print(combo_no_7)\n",
    "print(combo_digits)\n",
    "print(prob_no_7)\n",
    "print(prob_7)"
   ]
  }
 ],
 "metadata": {
  "kernelspec": {
   "display_name": "probability",
   "language": "python",
   "name": "probability"
  },
  "language_info": {
   "codemirror_mode": {
    "name": "ipython",
    "version": 3
   },
   "file_extension": ".py",
   "mimetype": "text/x-python",
   "name": "python",
   "nbconvert_exporter": "python",
   "pygments_lexer": "ipython3",
   "version": "3.13.7"
  }
 },
 "nbformat": 4,
 "nbformat_minor": 5
}
