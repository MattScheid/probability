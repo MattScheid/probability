{
 "cells": [
  {
   "cell_type": "markdown",
   "id": "66de2053",
   "metadata": {},
   "source": [
    "### Event Probability Concepts\n",
    "\n",
    "**Uniform Event Probability**\n",
    "- Uniform case: Each outcome in the sample space is equally likely.  \n",
    "- Example: Probability of rolling a 4 on a fair die is \\(1/6\\).  \n",
    "\n",
    "$$P(A) = \\frac{\\text{Number of favorable outcomes}}{\\text{Total number of outcomes}}$$\n",
    "\n",
    "**Weighted Event Probability**\n",
    "- Weighted (non-uniform) case: Outcomes have different probabilities.  \n",
    "- Example: If a biased coin lands heads 70% of the time\n",
    "$$\n",
    "P(A) = \\frac{\\text{Weight of favorable outcomes}}{\\text{Total weight of all outcomes}}\n",
    "$$\n",
    "\n",
    "**Complement Rule**\n",
    "- `P(A^c)` or `¬A` → Probability Event **A does not occur**\n",
    "$$P(A^c) = 1 - P(A)$$\n",
    "\n"
   ]
  },
  {
   "cell_type": "code",
   "execution_count": null,
   "id": "5cfbc285",
   "metadata": {},
   "outputs": [
    {
     "name": "stdout",
     "output_type": "stream",
     "text": [
      "Probability of rolling a 3: 0.16666666666666666\n"
     ]
    }
   ],
   "source": [
    "# Example: Probability of rolling a 3 on a fair six-sided die\n",
    "\n",
    "favorable_outcomes = 1  # Only one side shows a 3\n",
    "total_outcomes = 6      # Six sides on the die\n",
    "\n",
    "probability = favorable_outcomes / total_outcomes\n",
    "print(f\"Probability of rolling a 3: {probability}\")"
   ]
  },
  {
   "cell_type": "code",
   "execution_count": 3,
   "id": "43a4d21b",
   "metadata": {},
   "outputs": [
    {
     "name": "stdout",
     "output_type": "stream",
     "text": [
      "Probability of rolling a 7 with two dice: 0.16666666666666666\n"
     ]
    }
   ],
   "source": [
    "# Example: Probability of rolling a 7 with two fair six-sided dice\n",
    "\n",
    "# List all possible outcomes for two dice\n",
    "total_outcomes_2dice = 6 * 6  # 36 possible outcomes\n",
    "\n",
    "# Favorable outcomes for rolling a sum of 7: (1,6), (2,5), (3,4), (4,3), (5,2), (6,1)\n",
    "favorable_outcomes_2dice = 6\n",
    "\n",
    "probability_2dice = favorable_outcomes_2dice / total_outcomes_2dice\n",
    "print(f\"Probability of rolling a 7 with two dice: {probability_2dice}\")"
   ]
  },
  {
   "cell_type": "code",
   "execution_count": 5,
   "id": "8756e1aa",
   "metadata": {},
   "outputs": [
    {
     "name": "stdout",
     "output_type": "stream",
     "text": [
      "Probability of rolling a 8 with two dice: 0.1388888888888889\n"
     ]
    }
   ],
   "source": [
    "def probability_of_sum(n):\n",
    "    \"\"\"\n",
    "    Calculate the probability of rolling a sum of n with two six-sided dice.\n",
    "    \"\"\"\n",
    "    # Count favorable outcomes\n",
    "    favorable = 0\n",
    "    for i in range(1, 7):\n",
    "        for j in range(1, 7):\n",
    "            if i + j == n:\n",
    "                favorable += 1\n",
    "    # Total outcomes for two dice\n",
    "    total = total_outcomes_2dice\n",
    "    return favorable / total\n",
    "\n",
    "# Example usage:\n",
    "n = 8\n",
    "print(f\"Probability of rolling a {n} with two dice: {probability_of_sum(n)}\")"
   ]
  },
  {
   "cell_type": "markdown",
   "id": "9d62889a",
   "metadata": {},
   "source": [
    "### Simple Event Probability Questions (with Answers)\n",
    "\n",
    "1. **Coin Flip**  \n",
    "   What is the probability of getting heads when flipping a fair coin?  \n",
    "   **Answer:**  \n",
    "   $$\n",
    "   P(\\text{Heads}) = \\frac{1}{2}\n",
    "   $$\n",
    "\n",
    "---\n",
    "\n",
    "2. **Dice Roll**  \n",
    "   What is the probability of rolling a 4 on a fair six-sided die?  \n",
    "   **Answer:**  \n",
    "   $$\n",
    "   P(\\text{Roll = 4}) = \\frac{1}{6}\n",
    "   $$\n",
    "\n",
    "---\n",
    "\n",
    "3. **Deck of Cards (Single Event)**  \n",
    "   A card is drawn at random from a standard deck of 52. What is the probability it’s a heart?  \n",
    "   **Answer:**  \n",
    "   $$\n",
    "   P(\\text{Heart}) = \\frac{13}{52} = \\frac{1}{4}\n",
    "   $$\n",
    "\n",
    "---\n",
    "\n",
    "4. **Complement Rule**  \n",
    "   If the probability of rain tomorrow is 0.3, what is the probability it does not rain?  \n",
    "   **Answer:**  \n",
    "   $$\n",
    "   P(\\text{No Rain}) = 1 - P(\\text{Rain}) = 1 - 0.3 = 0.7\n",
    "   $$"
   ]
  },
  {
   "cell_type": "markdown",
   "id": "393c5697",
   "metadata": {},
   "source": [
    "### Weighted Probability Practice Problems\n",
    "\n",
    "#### 1. Weighted Dice\n",
    "A six-sided die is loaded so that the probability of rolling a number is proportional to its value.  \n",
    "What is the probability of rolling an even number?\n",
    "\n",
    "**Answer:**  \n",
    "Normalization:  \n",
    "\n",
    "$$\n",
    "P(\\text{Roll} = k) = \\frac{k}{1+2+3+4+5+6} = \\frac{k}{21}\n",
    "$$\n",
    "\n",
    "Event = {2,4,6}:  \n",
    "\n",
    "$$\n",
    "P(\\text{Even}) = \\frac{2}{21} + \\frac{4}{21} + \\frac{6}{21} = \\frac{12}{21} = \\frac{4}{7}\n",
    "$$\n",
    "\n",
    "---\n",
    "\n",
    "#### 2. Weighted Ball Selection\n",
    "A bag contains balls with weights that affect their probability of being drawn:  \n",
    "- Red (weight 2)  \n",
    "- Blue (weight 3)  \n",
    "- Green (weight 5)  \n",
    "\n",
    "If one ball is drawn at random with probability proportional to its weight, what is the probability of drawing a green ball?\n",
    "\n",
    "**Answer:**  \n",
    "Total weight = \\(2 + 3 + 5 = 10\\).  \n",
    "\n",
    "$$\n",
    "P(\\text{Green}) = \\frac{5}{10} = 0.5\n",
    "$$\n",
    "\n",
    "---\n",
    "\n",
    "#### 3. Biased Spinner\n",
    "A spinner is divided into 3 unequal regions with probabilities proportional to their angles:  \n",
    "- Region A: 90°  \n",
    "- Region B: 120°  \n",
    "- Region C: 150°  \n",
    "\n",
    "What is the probability the spinner lands on Region B?\n",
    "\n",
    "**Answer:**  \n",
    "Total angle = \\(90 + 120 + 150 = 360\\).  \n",
    "\n",
    "$$\n",
    "P(B) = \\frac{120}{360} = \\frac{1}{3}\n",
    "$$\n",
    "\n",
    "---"
   ]
  },
  {
   "cell_type": "markdown",
   "id": "ecf03865",
   "metadata": {},
   "source": []
  }
 ],
 "metadata": {
  "kernelspec": {
   "display_name": "probability",
   "language": "python",
   "name": "probability"
  },
  "language_info": {
   "codemirror_mode": {
    "name": "ipython",
    "version": 3
   },
   "file_extension": ".py",
   "mimetype": "text/x-python",
   "name": "python",
   "nbconvert_exporter": "python",
   "pygments_lexer": "ipython3",
   "version": "3.13.7"
  }
 },
 "nbformat": 4,
 "nbformat_minor": 5
}
